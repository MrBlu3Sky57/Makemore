{
 "cells": [
  {
   "cell_type": "code",
   "execution_count": 1,
   "metadata": {},
   "outputs": [],
   "source": [
    "words = open('names.txt', 'r').read().splitlines()"
   ]
  },
  {
   "cell_type": "code",
   "execution_count": 2,
   "metadata": {},
   "outputs": [],
   "source": [
    "import torch\n",
    "import torch.nn.functional as F"
   ]
  },
  {
   "cell_type": "code",
   "execution_count": 3,
   "metadata": {},
   "outputs": [],
   "source": [
    "chars = sorted(list(set(''.join(words))))\n",
    "stoi = {s:i+1 for i, s in enumerate(chars)}\n",
    "stoi['.'] = 0\n",
    "itos = {i:s for s, i in stoi.items()}"
   ]
  },
  {
   "cell_type": "code",
   "execution_count": 4,
   "metadata": {},
   "outputs": [],
   "source": [
    "N = torch.zeros((27, 27, 27), dtype=torch.int32)\n",
    "for w in words:\n",
    "    chs = ['.'] + ['.'] + list(w) + ['.']\n",
    "    for ch1, ch2, ch3 in zip(chs, chs[1:], chs[2:]):\n",
    "        id1, id2, id3 = stoi[ch1], stoi[ch2], stoi[ch3]\n",
    "        N[id1, id2, id3] += 1"
   ]
  },
  {
   "cell_type": "code",
   "execution_count": 5,
   "metadata": {},
   "outputs": [
    {
     "name": "stdout",
     "output_type": "stream",
     "text": [
      "taylor\n",
      "keigelielillagaurjraidalana\n",
      "marqoken\n",
      "lonniah\n",
      "zamdennet\n",
      "artymaya\n",
      "que\n",
      "kenna\n",
      "mond\n",
      "jaarnishilleschamilynneifen\n",
      "douriyiclix\n",
      "herron\n",
      "kelly\n",
      "joan\n",
      "aun\n",
      "ron\n",
      "ka\n",
      "orallee\n",
      "marameldca\n",
      "jasricatacotndricdtkhyia\n"
     ]
    }
   ],
   "source": [
    "P = (N+1).float()\n",
    "P = P / P.sum(2, keepdim=True)\n",
    "g = torch.Generator().manual_seed(2147483647 + 2)\n",
    "\n",
    "# Name generator\n",
    "for x in range(20):\n",
    "\n",
    "    i1 = 0\n",
    "    i2 = 0\n",
    "    out = []\n",
    "    while True:\n",
    "        next = torch.multinomial(P[i1, i2], num_samples=1, replacement=True, generator=g).item()\n",
    "\n",
    "        if next == 0:\n",
    "            break\n",
    "        i1 = i2\n",
    "        i2 = next\n",
    "        out.append(itos[next])\n",
    "    print(''.join(out))\n"
   ]
  },
  {
   "cell_type": "code",
   "execution_count": 6,
   "metadata": {},
   "outputs": [],
   "source": [
    "x1 = []\n",
    "x2 = []\n",
    "ys = []\n",
    "num = 0\n",
    "N = torch.zeros((27, 27, 27), dtype=torch.int32)\n",
    "\n",
    "for w in words:\n",
    "    chs = ['.', '.'] + list(w) + ['.']\n",
    "    for ch1, ch2, ch3 in zip(chs, chs[1:], chs[2:]):\n",
    "        id1 = stoi[ch1]\n",
    "        id2 = stoi[ch2]\n",
    "        id3 = stoi[ch3]\n",
    "\n",
    "        x1.append(id1)\n",
    "        x2.append(id2 + 27)\n",
    "        ys.append(id3)\n",
    "\n",
    "        N[id1, id2, id3] += 1\n",
    "\n",
    "x1 = torch.tensor(x1)\n",
    "x2 = torch.tensor(x2)\n",
    "ys = torch.tensor(ys)\n",
    "num = ys.nelement()\n",
    "\n",
    "P = (N+1).float()\n",
    "P = P / P.sum(2, keepdim=True)\n",
    "\n",
    "g = torch.Generator().manual_seed(2147483647)\n",
    "W = torch.randn((54, 27), generator=g, requires_grad=True)"
   ]
  },
  {
   "cell_type": "code",
   "execution_count": 13,
   "metadata": {},
   "outputs": [
    {
     "name": "stdout",
     "output_type": "stream",
     "text": [
      "2.526679277420044\n"
     ]
    }
   ],
   "source": [
    "for k in range(100):\n",
    "    logits = W[x1] + W[x2]\n",
    "    counts = logits.exp()\n",
    "    probs = counts / counts.sum(1, keepdim=True)\n",
    "    loss = F.cross_entropy(logits, P[x1, x2 - 27])\n",
    "\n",
    "    W.grad = None\n",
    "    loss.backward()\n",
    "\n",
    "    W.data += -50 * W.grad\n",
    "\n",
    "print(loss.item())"
   ]
  },
  {
   "cell_type": "code",
   "execution_count": 14,
   "metadata": {},
   "outputs": [
    {
     "name": "stdout",
     "output_type": "stream",
     "text": [
      "kadely\n",
      "naryusariegs\n",
      "jahlbere\n",
      "dani\n",
      "amiyanren\n",
      "kadien\n",
      "wayahientrikhev\n",
      "tue\n",
      "pee\n",
      "malka\n"
     ]
    }
   ],
   "source": [
    "# Testing Code\n",
    "\n",
    "for k in range(10):\n",
    "    input = torch.zeros(54)\n",
    "    f = 0\n",
    "    s = 27\n",
    "\n",
    "    out = []\n",
    "    while True:\n",
    "        logits = W[f] + W[s]\n",
    "        counts = logits.exp()\n",
    "        probs = counts / counts.sum()\n",
    "\n",
    "        idx = torch.multinomial(probs, num_samples=1, replacement=True, generator=g).item()\n",
    "\n",
    "        if idx == 0:\n",
    "            break\n",
    "        out.append(itos[idx])\n",
    "\n",
    "        f = s - 27\n",
    "        s = idx + 27\n",
    "        \n",
    "    print(''.join(out))"
   ]
  }
 ],
 "metadata": {
  "kernelspec": {
   "display_name": "Makemore",
   "language": "python",
   "name": "python3"
  },
  "language_info": {
   "codemirror_mode": {
    "name": "ipython",
    "version": 3
   },
   "file_extension": ".py",
   "mimetype": "text/x-python",
   "name": "python",
   "nbconvert_exporter": "python",
   "pygments_lexer": "ipython3",
   "version": "3.13.2"
  },
  "orig_nbformat": 4
 },
 "nbformat": 4,
 "nbformat_minor": 2
}
